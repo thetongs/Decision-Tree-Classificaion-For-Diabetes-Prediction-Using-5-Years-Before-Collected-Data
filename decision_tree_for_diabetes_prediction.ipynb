{
 "metadata": {
  "language_info": {
   "codemirror_mode": {
    "name": "ipython",
    "version": 3
   },
   "file_extension": ".py",
   "mimetype": "text/x-python",
   "name": "python",
   "nbconvert_exporter": "python",
   "pygments_lexer": "ipython3",
   "version": "3.7.9-final"
  },
  "orig_nbformat": 2,
  "kernelspec": {
   "name": "python3",
   "display_name": "Python 3",
   "language": "python"
  }
 },
 "nbformat": 4,
 "nbformat_minor": 2,
 "cells": [
  {
   "cell_type": "code",
   "execution_count": 1,
   "metadata": {},
   "outputs": [],
   "source": [
    "## Dataset Information\n",
    "# Information about 768 people, whether they were diagnosed with diabetes within five years after the information was recorded.\n",
    "\n",
    "## Module gain\n",
    "# Binary classfication using decision tree.abs\n",
    "# Different attribute selection or splitting rules measures : Information Gain(entropy), Gain Ratio and Gini Index."
   ]
  },
  {
   "cell_type": "code",
   "execution_count": 5,
   "metadata": {},
   "outputs": [
    {
     "output_type": "execute_result",
     "data": {
      "text/plain": [
       "['Pregnancies,Glucose,BloodPressure,SkinThickness,Insulin,BMI,DiabetesPedigreeFunction,Age,Outcome\\n',\n",
       " '6,148,72,35,0,33.6,0.627,50,1\\n',\n",
       " '1,85,66,29,0,26.6,0.351,31,0\\n',\n",
       " '8,183,64,0,0,23.3,0.672,32,1\\n',\n",
       " '1,89,66,23,94,28.1,0.167,21,0\\n',\n",
       " '0,137,40,35,168,43.1,2.288,33,1\\n',\n",
       " '5,116,74,0,0,25.6,0.201,30,0\\n',\n",
       " '3,78,50,32,88,31,0.248,26,1\\n',\n",
       " '10,115,0,0,0,35.3,0.134,29,0\\n',\n",
       " '2,197,70,45,543,30.5,0.158,53,1\\n']"
      ]
     },
     "metadata": {},
     "execution_count": 5
    }
   ],
   "source": [
    "## Load dataset\n",
    "#\n",
    "with open(\"diabetes.csv\", \"r\") as f:\n",
    "    data = f.readlines()\n",
    "\n",
    "data[:10]\n"
   ]
  },
  {
   "cell_type": "code",
   "execution_count": 10,
   "metadata": {},
   "outputs": [
    {
     "output_type": "stream",
     "name": "stdout",
     "text": [
      "[1, 0, 1, 0, 1]\n[[6.0, 148.0, 72.0, 35.0, 0.0, 33.6, 0.627, 50.0], [1.0, 85.0, 66.0, 29.0, 0.0, 26.6, 0.351, 31.0], [8.0, 183.0, 64.0, 0.0, 0.0, 23.3, 0.672, 32.0], [1.0, 89.0, 66.0, 23.0, 94.0, 28.1, 0.167, 21.0], [0.0, 137.0, 40.0, 35.0, 168.0, 43.1, 2.288, 33.0]]\n"
     ]
    }
   ],
   "source": [
    "## Need to format data into our required format\n",
    "# All features set \n",
    "feats = data[0]   # Name of all columns \n",
    "feats = feats.replace('\\n', '')\n",
    "feats = feats.split(\",\")\n",
    "\n",
    "# Independent feature set names\n",
    "feats = feats[0:(len(feats) - 1)]\n",
    "\n",
    "# Doing same for all dataset\n",
    "dat = []\n",
    "labs = []\n",
    "\n",
    "for i in range(1, len(data)):\n",
    "    line = data[i]\n",
    "    line = line.replace('\\n', '')\n",
    "    csvline = line.split(\",\")\n",
    "    labs = labs + [int(csvline[len(csvline) - 1])]\n",
    "    csvline = [float(csvline[i]) for i in range(len(csvline) - 1)]\n",
    "    dat = dat + [csvline]\n",
    "\n",
    "print(labs[:5])\n",
    "print(dat[:5])\n"
   ]
  },
  {
   "cell_type": "code",
   "execution_count": 15,
   "metadata": {},
   "outputs": [
    {
     "output_type": "stream",
     "name": "stdout",
     "text": [
      "Percentage of correct : 77.21354166666666 %\n"
     ]
    }
   ],
   "source": [
    "## Decision tree\n",
    "# \n",
    "from sklearn.tree import DecisionTreeClassifier\n",
    "classifier = DecisionTreeClassifier(max_leaf_nodes = 3)\n",
    "classifier = classifier.fit(dat, labs)\n",
    "\n",
    "# Check model results\n",
    "correct = 0\n",
    "for i in range(len(dat)):\n",
    "    if classifier.predict([dat[i]]) == labs[i]:\n",
    "        correct = correct + 1\n",
    "\n",
    "print(\"Percentage of correct : {} %\".format((correct / len(dat)) * 100))"
   ]
  },
  {
   "cell_type": "code",
   "execution_count": 17,
   "metadata": {},
   "outputs": [
    {
     "output_type": "stream",
     "name": "stderr",
     "text": [
      "[NbConvertApp] Converting notebook decision_tree_for_diabetes_prediction.ipynb to script\n[NbConvertApp] Writing 1395 bytes to decision_tree_for_diabetes_prediction.py\n"
     ]
    }
   ],
   "source": [
    "! jupyter nbconvert --to script decision_tree_for_diabetes_prediction.ipynb"
   ]
  }
 ]
}